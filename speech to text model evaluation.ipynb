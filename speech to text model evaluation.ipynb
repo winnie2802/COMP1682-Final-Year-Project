{
 "cells": [
  {
   "cell_type": "markdown",
   "id": "788808ec",
   "metadata": {},
   "source": [
    "1. Import neccessary libraries"
   ]
  },
  {
   "cell_type": "code",
   "execution_count": null,
   "id": "d6b42fda",
   "metadata": {},
   "outputs": [],
   "source": [
    "import assemblyai as aai\n",
    "from jiwer import transforms as tr\n",
    "from jiwer import wer"
   ]
  },
  {
   "cell_type": "markdown",
   "id": "a43b354f",
   "metadata": {},
   "source": [
    "2. Calculate the accuracy (%) of Whisper's transcription without speakers labeling compare to AssembyAI's transcription"
   ]
  },
  {
   "cell_type": "markdown",
   "id": "ec4f7a74",
   "metadata": {},
   "source": [
    "2.1. Sample Audio 1: Annual General Meeting FY 2019-20.mp3 (around 10 mins)"
   ]
  },
  {
   "cell_type": "code",
   "execution_count": 9,
   "id": "eb5a2f71",
   "metadata": {},
   "outputs": [
    {
     "name": "stdout",
     "output_type": "stream",
     "text": [
      "Word Error Rate (WER): 0.1249\n",
      "Accuracy của Whisper so với AssemblyAI: 87.51%\n"
     ]
    }
   ],
   "source": [
    "aai.settings.api_key = \"915ea6a90e5a467682150834a9808972\"\n",
    "\n",
    "audio_file = \"D:/Annual General Meeting FY 2019-20.mp3\"\n",
    "\n",
    "config = aai.TranscriptionConfig(speech_model=aai.SpeechModel.best)\n",
    "\n",
    "transcript = aai.Transcriber(config=config).transcribe(audio_file)\n",
    "\n",
    "if transcript.status == \"error\":\n",
    "    raise RuntimeError(f\"Transcription failed: {transcript.error}\")\n",
    "\n",
    "assemblyai_transcription = transcript.text\n",
    "whisper_transcription = \"\"\"\n",
    "Dear members, hello and a very good morning to all of you. I will be the legal head in compliance. He would welcome you all at the 19th annual meeting of the limited conducted through this video conferencing. As you are well aware, in view of the massive outbreak of global pandemic of COVID-19, social distancing is a norm to be followed and hence the government of India that has Mr. Corporate Affairs has allowed the companies to conduct their energy meeting through video conferencing. And accordingly, our companies conducting present AGM through video conferences. At the outset, I would like to introduce the members, directors and other special invitees who have joined the meeting to this VC. First, Mr. Mankim Brambhat, the Dean Chairman of the meeting, as well as a director and member of the company. Mr. Siddhartha, director and shareholder of the company. Mr. Mohit Rao, director and shareholder of the company. Mr. Manish Modi, member of the company. Mr. Jigar Bhatt, authorised representative of Bankai International Private Limited, who happens to be a member of the company. Mr. Uday Dhave, practicing Communist Secretary. Ms. Neha from the team of Mr. Uday Dhave and Mr. Mank Sanghvi, Assistant Manager Legal Compliance of the company. The notice of the 19th AGM and the report was sent through email to all the members whose email IDs registered with the company. Necessary state registers and other documents are available for inspection electronically. May I please take this opportunity to invite Mr. Mankim Brambhat to deliver his chairman's speech and begin the proceedings. Thank you. I, Mankim Brambhat, chairman of the company, welcome you all to this 19th annual general meeting of the company, OIA video conference. As we meet, we are in the midst of some unprecedented times. The entire world and India are grappling with the COVID-19 pandemic. The huge challenges it has thrown out. Governments across are at a dilemma on one hand around how much and how long to impose reasonable restrictions to address the spread of the pandemic. And on the other side, how to quickly restore the business conditions and how to jumpstart the economy. The year 2019-20 brought us unprecedented learnings with the novel coronavirus outbreak, compelling the corporate community to rethink strategies to try and overcome the deep impact the pandemic has had on various businesses. As leaders of the industry, in this unprecedented time, we are looking at constructive ways and means of dealing with the situation. Taking care of all our employees, stakeholders, and continuously focusing on the ever-changing customer needs. As a responsible and caring organization, we have looked at ways and means to help the government and help the communities around us in the best way. With a vision to be the most preferred telecom, infotech, and fintech brand in India and globally, Panamics Infotech Limited reported net revenue from operations of Rs. 44.61 crores in 2019-20 as compared to Rs. 41.32 crores in 2018-19. Simultaneously, our net profit stood at Rs. 1.74 crores in 2019-20 against Rs. 1.51 crores in 2018-19. Within a span of 19 years of race, with a new and innovative concept in the history of telecommunication, the company has achieved its grand success by a wide range of operations in telecom technology and fintech in the domestic and international markets. I would like to sincerely thank all our customers, employees, business partners, and shareholders for being with us through this transformational journey and who continue to respond to their faith and trust in our company. I also take this opportunity to thank the directors on board, Mr. Siddharth Shah and Mr. Naveed Rao, and Mr. Manish for their continued support and guidance. I would particularly like to thank all the employees of the Panamics Infotech Limited for their dedication, hard work, and commitment towards the company. We look forward to another successful year ahead with several new initiatives planned. Thank you. Thank you so much, Bankim Sir, for the chairman's speech. Now, members, just for information, members, attending the meeting through video conferencing shall be counted for the purpose of quorum under section 103 of the Companies Act 2013. Therein, today's meeting requested quorum is present and the meeting is in order. Further to the compliance with provision to section 108 of Companies Act 2013 and relevant rules made there under SEBI LODEA regulations 2015 and related circulars issued by MCA, voting will be done through show of hands. That means whenever voting has to be done, it has to be done by all the members through show of hands. For information, no shareholders have been registered as speakers to this AGM. And with the permission of members, we are taking the notice of 19th annual general meeting as circulated to the members of the company electronically as read. The auditors report on the financial statements of the company for the financial year ending 31st March 2020 do not contain any qualification, reservation, adverse remark, or disclaimer. Accordingly, the reports are not required to be read out as per Companies Act 2013. Now may please take this opportunity to proceed further with the business items as mentioned in the notice of AGM for the consideration of the respective members of the company. There are basically two ordinary business items. First to receive, consider and adopt the audited financial statement of the company, including balance sheet as at 31st March 2020, the statement of profit and loss and cash flow statements for the year ended on that day together with the directors and auditors report. May I please request all the members to show of their hand and give the favor to pass the resolution? I think this resolution will be proposed by the chairman. This resolution is proposed by chairman and I think Siddharth Bhai would like to second the resolution. Now I would like to request all the shareholders to convey their consent or dissent on this resolution beginning with Manish Bhai. Consent. Thank you. Consent. Okay. So this resolution is carried out unanimously. Now agenda item. Yes, please. Second agenda item is to appoint a rector in place of Mr. Bankim Rambat who retires the rotation being eligible seeking repointment. So that's a has requested would like to move the resolution as an ordinary resolution and Mr. Mohit Rao has seconded the resolution. I would like all the members to please show of your hands in favor of the resolution starting with Manish sir. Yes consent. Thank you. Mohit sir. Yes consent. Mr. Jagar Bhatt. Yes consent. Siddharth sir. Yes consent. Okay. And Bankim sir obviously. So as the request has passed the resolution we passed the resolution unanimously. And now since no other matters left to transact I convey my sincere thanks to the directors and members of the company for sparing the available time for attending this 19th AGM of the company. I would request Bankim sir to give the vote of thanks and conclude the meeting. Thank you everyone for joining this meeting. See you all in the next AGM meeting.\n",
    "\"\"\"\n",
    "\n",
    "assemblyai_transcription_lower = assemblyai_transcription.lower()\n",
    "whisper_transcription_lower = whisper_transcription.lower()\n",
    "\n",
    "transforms = tr.Compose(\n",
    "    [\n",
    "        tr.RemovePunctuation(),\n",
    "        tr.RemoveMultipleSpaces(),\n",
    "        tr.Strip(),\n",
    "        tr.ReduceToSingleSentence()\n",
    "    ]\n",
    ")\n",
    "\n",
    "normalized_assemblyai_transcription = transforms(assemblyai_transcription_lower)\n",
    "normalized_whisper_transcriptoion = transforms(whisper_transcription_lower)\n",
    "\n",
    "wer_score = wer(normalized_assemblyai_transcription, normalized_whisper_transcriptoion)\n",
    "accuracy = (1 - wer_score) * 100\n",
    "\n",
    "print(f\"Word Error Rate (WER): {wer_score:.4f}\")\n",
    "print(f\"Accuracy của Whisper so với AssemblyAI: {accuracy:.2f}%\")"
   ]
  },
  {
   "cell_type": "markdown",
   "id": "e4270ca2",
   "metadata": {},
   "source": [
    "2.2. Sample Audio 2: Sec Growth DataScience staff meeting Sep 14 2022.mp3 (around 30 mins)"
   ]
  },
  {
   "cell_type": "code",
   "execution_count": 10,
   "id": "a3c6283f",
   "metadata": {},
   "outputs": [
    {
     "name": "stdout",
     "output_type": "stream",
     "text": [
      "Word Error Rate (WER): 0.0954\n",
      "Accuracy của Whisper so với AssemblyAI: 90.46%\n"
     ]
    }
   ],
   "source": [
    "aai.settings.api_key = \"915ea6a90e5a467682150834a9808972\"\n",
    "\n",
    "audio_file = \"D:/Sec Growth DataScience staff meeting Sep 14 2022.mp3\"\n",
    "\n",
    "config = aai.TranscriptionConfig(speech_model=aai.SpeechModel.best)\n",
    "\n",
    "transcript = aai.Transcriber(config=config).transcribe(audio_file)\n",
    "\n",
    "if transcript.status == \"error\":\n",
    "    raise RuntimeError(f\"Transcription failed: {transcript.error}\")\n",
    "\n",
    "assemblyai_transcription = transcript.text\n",
    "whisper_transcription = \"\"\"\n",
    "So does the SEC, meaning secure and govern growth and data science meaning applied ml ml ops and anti abuse team meeting. That's a big mouthful, we might get a better name over time. And that's our meeting for September 14 or 15 to an APAC and hi Alan, glad you're here. Why are you here when it's midnight, we can talk about glad you're here, don't make it happen to come to this meeting since it's really late for you. So, but I'm glad. Thanks for coming at least once. So, news and events. I've got a lot of things on the agenda today because of some of this. So apologies for that but I think it's going to go down over time, based on feedback I'll work, I'm going to work to do more summarized communications to improve the signal to noise ratio in my communications to groups of people, including this group of people. This was written for this group, adding more items to our staff meeting agenda, often as really, rather than posting to our Slack channel, and I am going to be assuming that people leaders on the team will attend this meeting or read the notes and not rely on the Slack channel. So keep that in mind. Let's see B is a read only item unless anybody wants to discuss it. And see Phil has. Welcome Alan to the meeting. I've asked Alan to step in as acting full stack manager for security policies, while I hire an EM. Alan has graciously accepted this wonderful opportunity. So welcome Alan. Thank you. We've got the next item as well. So anti abuse is moving product sections from SEC to data science. Data science is effectively a rename of the Model Ops section. So data science will include two stages, the existing Model Ops, which has three groups in it, which mom can talk more about, and the anti abuse stage, which only currently has one group, which is called anti abuse. I think at some point there are plans to split anti abuse into two groups, but that's not in the near near term. And we're working through all the changes around that there's lots of workday changes lots of handbook changes. Mom, did you want to say anything more about data science or Model Ops. No, I think for us we just roll up to data science everything else stays the same. We still have the two main groups applied ML Ops and then later data ops, part of it. So, any thanks Thomas for continuing to compile and report on across all my teams that I'm responsible for in the engineering allocation meeting on error budgets and reliability and security incidents so really do appreciate that. Got to give Neil a high five to he does he does half of these now. And, and apologies for the noise if I keep asking for what's the story behind what's going on with reliability or security or error budget stuff, just trying to provide your cover. And I apologies Neil I totally forgot you took half of these since Thomas has been doing it for so long but appreciate it new. I know you volunteered for it and we discussed it but I just forgot kind of a thankless role, honestly, and I volunteered because of the exposure, I get from it, it's nice to be part of a different collective group of people. I was going to mention I'll type this in here, but Tiago had set up for container security, a bot that weekly. I think it's Mondays or like Sunday, we'll ping the team and ask for volunteer to go and resource that data, and we just enabled it for threat insights. And it's actually pretty sweet, and it just does all the work for you Thomas right we don't have to think people ourselves. So I'll put a note in there for that. He is read only and bill you've got G. Yeah, I'm talent assessment. So we had an update from Juliana. The dates haven't been confirmed yet but it'll be sometime from mid at mid October through to December, I think a group sign off is expected to be mid December before everyone goes on holiday. They've got a draft timeline in the end of the dates, the dates on in the handbook yet. So big changes we're moving to do it and work day. That's not available yet. I haven't seen a demo of it I don't know what questions will be asked. But there's an optional self evaluation, which will move into work day and the work that we do as managers will also happen in work day. Some people are using the Google Doc which is listed on the talent assessment page for self evaluations, and for the manager work. I'd suggest continuing to use those docs until we get access to work day and see what the exact differences are. H, I and Jerry only unless anybody wants to discuss them. Thomas. Yeah, item K. Yeah, apologies for the late, like live addition to the agenda on this one. But one more note on a change we're rolling out within secure pretty lightweight and that we're establishing a second team within dynamic analysis. And so, issue is there for folks want to play that would like to follow along or ask any questions about it. So, for the plan for right now is I'm going to be serving as a team to acting EM. And in addition to normally scheduled. Some duties, for lack of a better way of putting it. And so happy to answer any questions folks have about that. Quick question we've done the same thing and thread insights with with Neil and, and Tiago each having teams. What are you going to call your new team or how will you differentiate was not planning to differentiate it is just a second team within dynamic analysis we're not creating a new group, which I think is the same pattern that's happening within threat insights as well as just two teams know, I know that there's tangerine and there's Navy. I'm not a tangerine person myself. I don't know if there's another tea color Thomas, I struggled with that one. That's the thing. Tomato, I don't know. We'll figure it out. We'll figure it out at the differentiation. I think the difference between what's happening and threat insights and within dynamic analysis is that this is a split along feature category. And even though we're keeping that we're not spreading a new group it is there's the distinction is along like who's working on specific feature categories themselves. So, the, the, the, the, where the fracture point is happening is a little different but the, but the approach and effect are the same. So on to big rocks and hot issues section. I know it was a big rock but kind of belong here perhaps more than that but so did that survey, where you got an awesome response rate from the team on how to improve the MR rate for the team. And I took a really long time to go through other results and summarize and make initial recommendations. So lost a little bit of moment momentum I got caught up in other things like cross functional prioritization and the customer escalation. So since then, this is actually used by john hope to lead a discussion at the development offset last week on just improving engineering velocity is one of the things you use to power it so that value there. But I've seen no comments, I think for anybody in this group, which means either no time forgot about it, or it doesn't. We looked at it and it doesn't have much value, and any of those things are okay I'm just curious where the group landed. And if you haven't taken a look yet to see if there's anything you want to take away from it on things you might want to consider. Now, need to do so. And to consider it not to do but to consider anybody gotten a chance to read it yet. And think about it or not just yet it's not my guess is perhaps everybody's really busy and they haven't looked at. I mean at a high level, Jay, Neil, Tiago, we've talked about changes, I think Jay you've already looked at some changes around refinement that was near that you were going to look at for anti abuse and report back by the end of the quarter. Tiago and Neil I can't remember where we ended up with for three times. Yeah, I'm hoping that Mr rate is kind of an artifact or byproduct of some other actions. The big thing we're doing is more whole type of work like random miscellaneous not scheduled not PM necessarily actions or issues. And that actually is creating some more additional work like it's just like free time where I want to change of pace move to something else momentarily, and these are generally smaller type of issues to start quicker to knock out. Therefore they create more MRS which has been a cool byproduct. So I think that's helping us succeed there. We've seen some success with. We've implemented like a weekly refinement meeting, kind of check in make sure that stories are broken down tiny enough. I think with smaller bits of work we're seeing a higher MR eight. It's debatable whether or not that's like just inflated right like you can work on a small piece of code and ship it, and you can do that a lot of times you're going to get a higher MR eight, or trying to be reasonable with that. So we're seeing a nice take up. After implementing the refinement meeting, so let's hope for the best. Don't know. Good. One note on refinements in sack analysis we're experimenting with a new section in our planning feature, called looking forward. And in there, we're using that as like a baseline where we add issues that we think need refinement that will most likely be worked on in the next one to three milestones. So we're using that as kind of a base cover for some engineer to go in and add their issues and make sure they get refined within this milestone, not necessarily any implementation, but just refinement itself. I should stop talking on mute. Thank you, Mark Thomas you want to verbalize your comment. Yeah, I'll verbalize and then I'll say more and then I'll finish writing what I was going to put down underneath it in just a moment. So, the, this was an agenda item with the EMS and I can say it now in the secure stage. Instead is the analyzer teams now. So this was a topic yesterday so my I would assume that this is more like as a chance to read but not digest the content. And what I was about to write, and I am cautious and saying this because it almost comes across as smug, and that is not my intent in that looking at the MR eight within sec compared to company wide historically it runs two to three MRs per engineer per month higher. And I think a good bit of that has to do with the. I mean, we've taken this to be true, or at least asserted it to be true in that it's smaller teams that are working closely together in less busy projects than we see within the rails platform itself, which does have an impact. That's not to say that we cannot do better. But the comparison. The favorable comparison, at least to me and I will admit this at times will lessen the urgency on this particular topic. And I have to admit that bias that I have. Thanks Thomas thanks everyone so I didn't see any comments in the issue that's totally fine. People found some of it useful some of the analysis useful. And that's great so I will close the issue, accordingly and just linked to these notes, good stuff. Thomas you've got item B. Okay. All right after this done. All right, that ramp in the can't or won't fix security issues that way maybe we may be having there's. So we've got the first security issues that are subject to federal if we if you have a feature category that is dips compliant or certified, you're probably going to be part of the Fed ramp evaluation and any security issue that has a CD associated with it which means dependency or container scanning specifically has to have a remediation plan, even if they're false positives. And so that's led to a separate discussion on what do we need to do for. Do we need to do anything related to security findings on the commercial versions of analyzer specifically that was the catalyst for this particular conversation, because on container scanning, we get a lot of findings related to Debian based images that that project has not shipped a fix for, or won't fix ship effects for. So, there is a separate thread that is going on here about what to do and can we do deviation requests in bulk for this class for this for this class of findings. The TLDR is below. And there's a couple of there's a couple of options that are being brainstormed within this particular thread, so I wanted, and I know I've said a lot of words, and I didn't say it well. But I wanted to bring it here in case there was any questions or commentary. Nothing directly related to what you've just talked about but but sort of related for FedRAMP, you're looking at any FIPS related security issues that have been raised. How far are you going in terms of auditing to find anything that hasn't already been identified. There is, I'll link in another issue a separate issue that is good that has instructions from AppSec on what they would like us to do as far as setting up container scanning. And they have set up a project with a single configuration that they're asking us to use. There is some debate as to, as to how that project has been configured because it uses a combination of three container scanning tools rather than one. And so they've asked us to use that as a baseline for the FIPS images specifically, since they're UBI or the UBI specific images. They're, they're equivalent in my mind, even though they're, they're, they're different meanings. So TLDR, talk to AppSec. Got it. Nikhil, Nikhil George is our stable counterpart, folks don't know, at least in sec. And so he's been quite responsive and keen and he is also helping chase down answers when, when he doesn't have them so that's a big guy. He's been, he's been a big help thus far. Yeah. So, in. Thanks for bringing this up Thomas. So, in the hallway. So from the development staff meeting. I copied and pasted the notes in there but net is the TLDR is can folks, the request to me and my peers was can folks check with their teams to see if the approvals are affecting them. So, this is the new approval rules on segregation of duties so I asked this group, not that everybody's here, but in the group and they shouldn't be, all means are optional, but have has this had an impact. These new approvals. Anecdotally I've seen a few cases where team members have realized that they need to get an additional approval. But I'm not aware that it's actually slowing things down. Okay. I'm going to put my hands on this probably, unless we're missing unless unless it's happening and we're not noticing it, we're just slowing things down but just keep an eye on it in case it does everyone, please, good stuff. So, with recent changes. I've seen a lot of different changes with secure and real government broken out from secure and data ops team and this and that is, I just compared the name of my team with my peers, my peers have one word team names, ops dev create etc. So it's sec growth and data science, which is pretty wordy, and also makes it like when I go into dashboards I have to pull data from multiple places across my teams. So I was thinking about one word name. I've started to get feedback on it naming things is really important at GitLab to name the right kinds of things and give them good names. I've been asked by David DeSanto tomorrow's he's great person to bounce this things off of. I landed on enrichment, because what we do makes other things better we enrich them. It's kind of a very broad term, but it does cover what we do. Not sure we're going to change the name, which I'm not sure it's going to affect anyone but me. That's actually my intent is it only affects my stuff not everyone else's. Everyone else is in a small way, or others in a small way but we'll see. Any thoughts on this. Good idea bad idea. I'm not way to this I'm looking for feedback. Yeah, obviously, the other examples relate to either sections or stages, whereas enrichment doesn't, so you'd be introducing something new here. This affects me as well. I have a subset of enrichment so it would be kind of enrichment light. I'm not sure. I'm not sure where I think you and I have spoken about this I'm not sure we would get approval to introduce a new name or department level, we'd certainly have to talk to people ops about introducing that and work day. Okay. So, a couple of things you know these kinds of things I would sometimes put in slack and I'm trying to avoid number of distinct slack messages so putting it in here, making a lot read only when possible so that see that which is not really only so I would like to add announcements of work anniversaries and new hires to the meeting template. PM does this I attended the PM staff meeting I was a guest speaker there this week. And like the camaraderie. We have good camaraderie the camaraderie there was pretty good. And then Vern who's shadowing me today I think he sat in on the PM meeting as well as some pretty good feel of just people really knowing each other well and getting along well. So, those are just two things I took away from it is anniversaries and new hires. Oh, verbalize Chia goes comment. So yeah, great idea for new hires don't care much about work anniversaries very about for that. What I'd say is, I always seem to miss the bottom announcements, as they cover the whole company versus about just announcing for our team. If no interest in that part I'm happy to exclude the Neil you like the idea of adding. Yeah, you don't. I mean just last week, I think it was Phil celebrated his third year, and I congratulated him but then I missed another team member in sec. And there's like 20 people on that list, plus it's team member updates that it's not a channel I look at a lot like weekly. I just happen to see that the day of, so I do like being able to celebrate together in this group. Maybe also thanks or praise section. Like thanks for doing this. Great job on that. Are you suggesting that we add new content into this document for that, or that we just link to the slack announcements that we've already made. I think it's nice to verbalize them. I mean link to the slack announcements but also verbalize it I know it sounds like a bunch of busy work. I don't want to do things twice. Maybe we add the sections and people use them as they see fit. Whatever that happens to be, but please don't over. Don't create busy work for yourself either. So, so judgment call by each person. Thomas looks like you had a Thomas and Mon you had some thoughts on this too. I like it. We don't celebrate enough, we don't do enough for team cohesion team celebration across the board, just as a corollary thing that I haven't communicated well. I was hoping to add this kind of thing to our monthly section wide retrospectives, new hires discretionary bonuses work anniversaries big feature releases. And anything that we want to announce and celebrate, we ought to make sure that it's. I don't want to say shout to the rooftops but we're shot to the heavens but but we're big deals, and we don't make and we undersell. Yeah. Oh sorry and hey, Fernando here so I'm shadowing Wayne now just to introduce myself from the technical marketing team. So I'll send the document right now, which is something that we do for our kind of get together team meetings. And it kind of shows. You can you can look through it I shared it to everyone on the zoom chat, but you can see that we provide updates, the new team members and small little introductions. And then you can see sections that we have on gratitude and actual spotlights that we show like who we're actually praising what they've done that's good. And how we can highlight that because that will motivate employees, kind of really increase that morale because what we're seeing is these employees are actually getting recognized for good work that they've done. So I want to give shout outs because a lot of times, at least in our team, the cases we don't really, although we work with each other where we sometimes are kind of siloed busy working on different things so it's good to know what everyone's working on and what everyone's doing so somewhat related to to what you were just speaking on but just thought I'd share that. Thanks for Nita. He. So I'm not going to read all this from Daniel Croft, but summarizing he is looking for feedback on the development vision and mission and direction. We're brainstorming on in the development department on mission and vision in particular the approach is when everybody open up a little spreadsheet and follow the instructions anybody interested so if you're interested in doing so, should take about 10 to 15 minutes. Please do it in the next week. Good stuff there. Something we covered also the development off site that Daniel took as an action item to follow up on. Thomas you've got eat. Yep. Right, because I cannot remember. And so I'm hoping to crowdsource a little bit of this configuration archaeology so to speak. Is there a reason that we don't use reviewer roulette I can remember the reason I'm asking is contained within that thread but that is a tool that actually is being used to track if we have enough maintainers on any given project, and since we don't use it, we're showing up. And so that's why I was. That's why I'm asking. Yep. When you say reviewer roulette Are you talking about on the individual analyzers. Yeah. Yeah, we have a need only for dash we haven't had a need for it, because we have six engineers, that's just gonna rule that the same six people. Yeah, rule of six sided diet that's what I kind of think it is but it's from a larger, like, if the company. Like, where do we need more maintainers is the question that the organization is asking. If they're looking in the wrong place if they're looking in roulette to see to find out the number of maintainers that's the wrong place the engineering projects page should list all the maintainers if you set up your team your entries correctly. I would have thought that was more than single source of truth. Apparently not. Yeah, I'm looking at the chart I mean I think on some of these projects we just haven't filled it out. I'll give you, like, we have the API. The cub files we have one engineer that works on it. So we haven't gone and added a maintainer there because they know who they are. So we maintain that as a single source of truth we need to just go through and scrub it. Sorry, Seth I'm reminded that I'm reminded of the Spider Man meme with the two Spider Men pointing at each other, who's the reviewer who's the author it's it's the same person. It's been a long day so I'm a little punchy so but yes that makes sense. So, Seth are you saying you haven't added it to individual team members yaml files in the handbook yet. Right, I believe for that one. We, there's just no entry for it. I mean we could I think, I think, that should do it. Yeah, well it should, they shouldn't be using just roulette they should be using that as a source of truth and I think if you've listed maintainers that should cover it. A follow up question would be does that does that cover the senior plus engineers must be a maintainer requirement or not. Thomas you buried the lead, the recall buried the lead. I took the read only off your comment there, so you can name it. Well, we're going to end with the best news of the day. That's all. But, but the maintainer requirement. Yes, it does. I mean, because it's required for senior plus, going back to that is just maintaining one or more I think is the requirement from a book record. I was talking about the Olivia news. Yeah, I know, I was just making sure we were finished with the topic above. All right. And we're at time so I will move on and take that as a prompt. Yeah, Olivier has popped back on slack to announce that the newest edition of their family is here and happened over the weekend. So, so, big, big congrats to his family for that, and we'll be hoping to celebrate him later when he does when he when he returns to work. So, thanks everybody have a great day.\n",
    "\"\"\"\n",
    "\n",
    "assemblyai_transcription_lower = assemblyai_transcription.lower()\n",
    "whisper_transcription_lower = whisper_transcription.lower()\n",
    "\n",
    "transforms = tr.Compose(\n",
    "    [\n",
    "        tr.RemovePunctuation(),\n",
    "        tr.RemoveMultipleSpaces(),\n",
    "        tr.Strip(),\n",
    "        tr.ReduceToSingleSentence()\n",
    "    ]\n",
    ")\n",
    "\n",
    "normalized_assemblyai_transcription = transforms(assemblyai_transcription_lower)\n",
    "normalized_whisper_transcriptoion = transforms(whisper_transcription_lower)\n",
    "\n",
    "wer_score = wer(normalized_assemblyai_transcription, normalized_whisper_transcriptoion)\n",
    "accuracy = (1 - wer_score) * 100\n",
    "\n",
    "print(f\"Word Error Rate (WER): {wer_score:.4f}\")\n",
    "print(f\"Accuracy của Whisper so với AssemblyAI: {accuracy:.2f}%\")"
   ]
  },
  {
   "cell_type": "markdown",
   "id": "9ca36111",
   "metadata": {},
   "source": [
    "3. Calculate the accuracy (%) of Whisper's transcription with speakers labeling compare to AssembyAI's transcription"
   ]
  },
  {
   "cell_type": "markdown",
   "id": "449bb88b",
   "metadata": {},
   "source": [
    "3.1. Sample Audio 1: Annual General Meeting FY 2019-20.mp3 (around 10 mins)"
   ]
  },
  {
   "cell_type": "code",
   "execution_count": 11,
   "id": "17f6f1d4",
   "metadata": {},
   "outputs": [
    {
     "name": "stdout",
     "output_type": "stream",
     "text": [
      "Word Error Rate (WER): 0.1089\n",
      "Accuracy of Whisper compared to AssemblyAI: 89.11%\n"
     ]
    }
   ],
   "source": [
    "aai.settings.api_key = \"915ea6a90e5a467682150834a9808972\"\n",
    "\n",
    "audio_file = \"D:/Annual General Meeting FY 2019-20.mp3\"\n",
    "\n",
    "config = aai.TranscriptionConfig(speech_model=aai.SpeechModel.best, speaker_labels=True)\n",
    "\n",
    "transcript = aai.Transcriber(config=config).transcribe(audio_file)\n",
    "\n",
    "if transcript.status == \"error\":\n",
    "    raise RuntimeError(f\"Transcription failed: {transcript.error}\")\n",
    "\n",
    "assemblyai_transcription = \"\"\n",
    "for utterance in transcript.utterances:\n",
    "    assemblyai_transcription += f\"SPEAKER {utterance.speaker}: {utterance.text}\\n\"\n",
    "\n",
    "whisper_transcription = \"\"\"\n",
    "SPEAKER A: Dear members, hello and a very good morning to all of you. I, Viral Tripathi, Legal Head in Compliance, here with welcome you all at the 19th annual general meeting of Panamik Infotek Limited, conducted through this video conferencing. As you are well aware, in view of the massive outbreak of global pandemic of COVID-19, social distancing is a norm to be followed and hence the Government of India That is, Mr. Corporate Affairs has allowed the companies to conduct their energy meeting through video conferencing. And accordingly, our companies conducting present AGM through video conferences. At the outset, I would like to introduce the members, directors and other special invitees who have joined the meeting to this VC. First, Mr. Munkim Brambat, the Dean Chairman of the meeting, as well as a director and member of the company. Mr. Siddharth Shah, director and shareholder of the company. Mr. Mohit Rao, director and shareholder of the company. Mr. Manish Modi, member of the company. Mr. Jigar Bhatt, authorized representative of Bankai International Private Limited, who happens to the member of the company. Mr. Uday Dhave, practicing communist secretary, Ms. Neha from the team of Mr. Uday Dhave and Mr. Mayank Sanghvi, assistant manager legal compliance of the company. The notice of the 19th AGM and the annual report was sent through email to all the members whose email ID is registered with the company. Necessary state registers and other documents are available for inspection electronically. May I please take this opportunity to invite Mr. Bankim Rambhat to deliver his chairman's speech and begin the proceedings.\n",
    "SPEAKER B: Thank you very much. I, Bankim Rambhat, chairman of the company, welcome you all to this 19th annual general meeting of the company, Huawei Video Conference. As we meet, we are in the midst of some unprecedented times. The entire world and India are grappling with the COVID-19 pandemic and the huge challenges it has thrown out. Governments across are at a dilemma on one hand around how much and how long to impose reasonable restrictions to arrest the spread of the pandemic. and on the other side, how to quickly restore the business conditions and how to jumpstart the economy. The year 2019-20 brought us unprecedented learnings with the novel coronavirus outbreak, compelling the corporate community to rethink strategies to try and overcome the deep impact the pandemic has had on various businesses. As leaders of the industry, in this unprecedented time, we are looking at constructive ways and means of dealing with the situation. Taking care of all our employees, stakeholders and continuously focusing on the ever-changing customer needs. As a responsible and Caring organization. We have looked at ways and means to help the government and help the communities around us in the basement. With a reason to be the most preferred telecom infotech and fintech brand in India and globally. Panamics Infotech Limited reported net revenue from operations of rupees 44.61 crores in 2019-20 as compared to rupees 41.32 crores in 2018-19. Simultaneously, our net profit stood at rupees 1.74 crores in 2019-20 against rupees 1.51 crores in 2018-19. Within a span of 19 years of race, with a new and innovative concept in the history of telecommunications, The company has achieved its grand success by wide range of operations in telecom technology and fintech in the domestic and international markets. I would like to sincerely thank all our customers, employees, business partners and shareholders for being with us through this transformational journey and who continue to response their faith and trust in our company. I also take this opportunity to thank the directors on board, Mr. Siddharth Shah and Mr. Mohit Rao, and Mr. Manish. For their continued support and guidance, I would particularly like to thank all the employees of the PANAMAX Infotech Limited for their dedication, hard work, and commitment towards the company. We look forward to another successful year ahead with several new initiatives planned. Thank you.\n",
    "SPEAKER A: Thank you so much, Bankim sir, for the chairman's speech. Okay. Now, members, just for information, members, attending the meeting through video conferencing shall be counted for the purpose of quorum under Section 103 of Companies Act 113, wherein today's meeting requested quorum is present and the meeting is in order. Further to the compliance with provision to Section 108 of Companies Act 2013, and relevant rules made there under SEBI LODR regulations 2015 and related circulars issued by MCA, voting will be done through show of hands. That means whenever voting has to be done, it has to be done by all the members through show of hands. For information, no shareholders have registered as speakers to this AGM. And with the permission of members, we are taking the notice of 19th annual general meeting as circulated to the members of the company electronically as read. The auditors report on the financial statements of the company for the financial year ending 31st March 2020 do not contain any qualification, reservation, adverse remark or disclaimer. Accordingly, the reports are not required to be read out as per Companies Act 2013. Now, may please take this opportunity to proceed further with the business items as mentioned in the Notice of AGM for the consideration of the respective members of the company. There are basically two ordinary business items. First, to receive, consider and adopt the audited financial statement of the company, including balance sheet, as at 31st March 2020, the statement of profit and loss and cash flow statements for the year ended on that day together with the directors and auditors report. May I please request all the members to show off their hand and give the favor to pass the resolution.\n",
    "SPEAKER C: I think this resolution will be proposed by the chairman This resolution is proposed by chairman. And I think Siddharth Bhai would like to second the resolution. Now I would like to request all the shareholders to convey their consent or dissent on this resolution, beginning with Manish Bhai. Consent. Thank you. Consent. Okay, so this resolution is carried out unanimously. Yes, please.\n",
    "SPEAKER A: Second agenda item is to appoint a rector in place of Mr. Bankim Rambat, who retires by rotation being eligible seeking repointment. Siddharth sir has requested would like to move the resolution as an order of resolution. and Mr. Mohit Rao has seconded the resolution. I would like all the members to please show off your hands in favor of the resolution, starting with Manish Sir.\n",
    "SPEAKER C: Yes, consent.\n",
    "SPEAKER A: Thank you. Mohit Sir.\n",
    "SPEAKER C: Yes, consent.\n",
    "SPEAKER A: Mr. Jagir Bhatt. Yes, consent. So that's it.\n",
    "SPEAKER C: Yes, consent.\n",
    "SPEAKER A: Okay, and bunk him so obviously. So, as the request a quorum has passed the resolution, we pass the resolution anonymously. And now, since no other matters left to transact, I convey my sincere thanks to the directors and members of the company for sparing the available time for attending this 19th AGM of the company. I would request Bankim Sir to give the vote of thanks and conclude the meeting.\n",
    "SPEAKER B: Thank you everyone for joining this meeting. And thank you. See you all in the next AGM meeting.\n",
    "SPEAKER A: Thank you, sir.\n",
    "SPEAKER B: Thank you so much. Thank you. Thank you.\n",
    "SPEAKER C: Thank you.\n",
    "\"\"\"\n",
    "\n",
    "assemblyai_transcription_lower = assemblyai_transcription.lower()\n",
    "whisper_transcription_lower = whisper_transcription.lower()\n",
    "\n",
    "transforms = tr.Compose(\n",
    "    [\n",
    "        tr.RemovePunctuation(),\n",
    "        tr.RemoveMultipleSpaces(),\n",
    "        tr.Strip(),\n",
    "        tr.ReduceToSingleSentence()\n",
    "    ]\n",
    ")\n",
    "\n",
    "normalized_assemblyai_transcription = transforms(assemblyai_transcription_lower)\n",
    "normalized_whisper_transcription = transforms(whisper_transcription_lower)\n",
    "\n",
    "wer_score = wer(normalized_assemblyai_transcription, normalized_whisper_transcription)\n",
    "accuracy = (1 - wer_score) * 100\n",
    "\n",
    "print(f\"Word Error Rate (WER): {wer_score:.4f}\")\n",
    "print(f\"Accuracy of Whisper compared to AssemblyAI: {accuracy:.2f}%\")"
   ]
  },
  {
   "cell_type": "markdown",
   "id": "42e860a6",
   "metadata": {},
   "source": [
    "3.2. Sample Audio 2: Sec Growth DataScience staff meeting Sep 14 2022.mp3 (around 30 mins)"
   ]
  },
  {
   "cell_type": "code",
   "execution_count": null,
   "id": "fda9dda8",
   "metadata": {},
   "outputs": [
    {
     "name": "stdout",
     "output_type": "stream",
     "text": [
      "Word Error Rate (WER): 0.0979\n",
      "Accuracy of Whisper compared to AssemblyAI: 90.21%\n"
     ]
    }
   ],
   "source": [
    "audio_file = \"D:/Sec Growth DataScience staff meeting Sep 14 2022.mp3\"\n",
    "\n",
    "config = aai.TranscriptionConfig(speech_model=aai.SpeechModel.best, speaker_labels=True)\n",
    "transcript = aai.Transcriber(config=config).transcribe(audio_file)\n",
    "\n",
    "if transcript.status == \"error\":\n",
    "    raise RuntimeError(f\"Transcription failed: {transcript.error}\")\n",
    "\n",
    "assemblyai_transcription = \"\"\n",
    "for utterance in transcript.utterances:\n",
    "    assemblyai_transcription += f\"SPEAKER {utterance.speaker}: {utterance.text}\\n\"\n",
    "\n",
    "whisper_transcription = \"\"\"\n",
    "SPEAKER A: So does the SEC, meaning secure and govern growth and data science meaning applied ml ml ops and anti abuse team meeting. That's a big mouthful, we might get a better name over time. And that's our meeting for September 14th or 15th in a pack and hi Alan, glad you're here. Why are you here when it's midnight, we can talk glad you're here, don't make it happen to come to this meeting since it's really late for you. So, but I'm glad. Thanks for coming at least once. News and events. I've got a lot of things on the agenda today because of some of this. So apologies for that. But I think it's going to go down over time. Based on feedback, I'm going to work to do more summarized communications to improve the signal to noise ratio in my communications to groups of people, including this group of people. This will result in, for this group, adding more items to our staff meeting agenda. often as read-only, rather than posting to our Slack channel. And I am going to be assuming that people leaders on the team will attend this meeting or read the notes and not rely on the Slack channel. So keep that in mind. Let's see. B is a read-only item unless anybody wants to discuss it. And C, Phil has.\n",
    "SPEAKER B: Hi. Welcome, Alan, to the meeting. I've asked Alan to step in as acting full stack manager for security policies. while I hire an EM. Alan has graciously accepted this wonderful opportunity. So welcome, Alan.\n",
    "SPEAKER C: Thank you.\n",
    "SPEAKER B: I've got the next item as well. So anti-abuse is moving product sections from SEC to data science. Data science is effectively a rename of the Model Ops section. So data science will include two stages, the existing model ops, which has three groups in it, which Mum can talk more about, and the anti-abuse stage, which only currently has one group, which is called anti-abuse. I think at some point there are plans to split anti-abuse into two groups, but that's not in the near-term. And we're working through all the changes around that. There's lots of workday changes, lots of handbook changes. Mon, did you want to say anything more about data science or model ops?\n",
    "SPEAKER D: No, I think for us, we just roll up to data science. Everything else stays the same. We still have the two main groups, applied ML ops and then later data ops as part of it. Yeah.\n",
    "SPEAKER A: So thanks Thomas for continuing to compile and report on across all of my teams that I'm responsible for in the engineering allocation meeting on error budgets and reliability and security incidents. So really do appreciate that.\n",
    "SPEAKER E: Gotta give Neil a high five too. He does half of these now. And apologies for the noise if I keep asking for what's the story behind what's going on with reliability or error budget stuff, just trying to provide your cover.\n",
    "SPEAKER A: And I apologies, Neil. I totally forgot you took half of these since Thomas has been doing it for so long, but I appreciate it, Neil. I know you volunteered for it and we discussed it, but I just forgot.\n",
    "SPEAKER F: Kind of a thankless role, honestly. And I volunteered because of the exposure I get from it. It's nice to be part of a different collective group of people. I was going to mention, I'll type this in here, but Tiago had set up for container security, a bot that weekly, I think it's Mondays or like Sunday, will ping the team and ask for volunteer to go and resource that data. And we just enabled it for Threat Insights. It's actually pretty sweet. And it just, it does all the work for you, Thomas, right? We don't have to ping people ourselves. So I'll put a note in there for that.\n",
    "SPEAKER C: Pete, F is read only and Bill, you've got G.\n",
    "SPEAKER B: Yeah, talent assessment. So we had an update from Juliana. The dates haven't been confirmed yet, but it'll be sometime from mid-October through to December. I think eGroup sign-off is expected to be mid-December before everyone goes on holiday. They've got a draft timeline in there, but the dates aren't in the handbook yet. The big change is we're moving to do it in Workday. That's not available yet. I haven't seen a demo of it. I don't know what questions will be asked, but there's an optional self-evaluation which will move into Workday and the work that we do as managers will also happen in Workday. At the moment, some people are using the Google Doc, which is listed on the talent assessment page for self-evaluations and for the manager work. I'd suggest continuing to use those docs until we get access to Workday and see what the exact differences are.\n",
    "SPEAKER A: Each INJ are read-only unless anybody wants to discuss them. And Thomas, you got item K. Yeah.\n",
    "SPEAKER E: Apologies for the late, like live addition to the agenda on this one. But one more note on a change. We're rolling out within secure, pretty lightweight, and that we're establishing a second team within dynamic analysis. And so issue is there for folks that would like to follow along or ask any questions about it. The plan for right now is I'm going to be serving as the team's acting EEM and in addition to normally scheduled some duties for lack of a better way of putting it. And so happy to answer any questions if folks have about that.\n",
    "SPEAKER B: I had a quick question. We've done the same thing in Threat Insights with Neil and Tiago each having teams. What are you going to call your new team or how will you differentiate?\n",
    "SPEAKER E: was not planning to differentiate it. It's just a second team within dynamic analysis. We're not creating a new group, which I think is the same pattern that's happening within threat insights as well. It's just two teams. I know that there's tangerine and there's Navy. I'm not a tangerine person myself. out.\n",
    "SPEAKER F: I don't know if there's another tea color, Thomas. I struggled with that one. That's the theme. Tomato.\n",
    "SPEAKER E: I don't know. We'll figure it out. We'll figure it out. The differentiation, I think the difference between what's happening in threat insights and within dynamic analysis is that this is a split along feature category. Even though we're keeping that we're not spreading a new group, it is the distinction is along like who's working on specific feature categories themselves. So where the fracture point is happening is a little different, but the approach and effect are the same.\n",
    "SPEAKER C: I hope. So on to big rocks and hot issues section.\n",
    "SPEAKER A: I don't know if it was a big rock, but kind of belonged here perhaps more in other places. So did that survey where you got an awesome response rate from the team on how to improve the MR rate for the team? And then I took a really long time to go through other results and summarize and make initial recommendations. So I lost a little bit of momentum. I got caught up in other things like cross-functional prioritization and the customer escalation. So since then, this is actually used by John Hope to lead a discussion at the development offset last week on just improving engineering velocity as one of the things he used to power it. So it had value there. But I've seen no comments, I think, from anybody in this group, which means either no time, forgot about it, or we looked at it and it doesn't have much value. And any of those things are OK. I'm just curious where the group landed. And if you haven't taken a look yet to see if there's anything you want to take away from it on things you might want to consider, you just need to do so. And to consider, not to do, but to consider. Anybody got a chance to read it yet and think about it or not just yet? My guess is perhaps everybody's really busy and they haven't looked yet.\n",
    "SPEAKER B: I mean, at a high level, Jay, Neil, Tiago, we've talked about changes. I think, Jay, you've already looked at some changes around refinement. That was an area that you were going to look at for anti-abuse and report back by the end of the quarter. And Tiago and Neil, I can't remember where we ended up with for Sweden Science.\n",
    "SPEAKER F: Yeah, I'm hoping that MRRAID is kind of an artifact or a byproduct of some other actions. The big thing we're doing is more whole type of work, like random miscellaneous, not scheduled, not PM necessarily, actions or issues. And that actually is creating some more additional work. Like it's just like free time work. I want to change of pace, move to something else momentarily. And these are generally smaller types of issues too, so they're quicker to knock out. Therefore, they create more MRs, which has been a cool byproduct. So I think that's helping us succeed there.\n",
    "SPEAKER G: Yeah, we're also seeing some success with we've implemented a weekly refinement meeting, kind of check in, make sure that stories are broken down tiny enough. I think with smaller bits of work, we're seeing a higher MR rate. It's debatable whether or not that's just inflated, right? Like you can work on a small piece of code and ship it and you can do that a lot of times, you're going to get a higher MR rate. We're trying to be reasonable with that. I am noticing a nice take up after implementing the refinement meeting. So let's hope for the best.\n",
    "SPEAKER H: I was going to say one note on refinements in static analysis, we're experimenting with a new section in our planning feature, it's called looking forward. And in there, we're using that as like a baseline where we add issues that we think need refinement that will most likely be worked on in the next one to three milestones. So we're using that as kind of a base cover for some engineer to go in and add their issues and make sure they get refined within this milestone. Not necessarily any implementation, but just refinement itself.\n",
    "SPEAKER C: I should stop talking on mute.\n",
    "SPEAKER A: Thank you, Omar.\n",
    "SPEAKER E: Thomas, you want to verbalize your comment? Yeah, I'll verbalize and then I'll say more and then I'll finish writing what I was going to put down underneath it in just a moment. So this was an agenda item with the EMS and I can say it now in the secure stage, since that is the analyzer teams now. So this was a topic yesterday so my I would assume that this is more like a bad chance to read but not digest the content. And what I was about to write, and I am cautious and saying this because it almost comes across as smug, and that is not my intent. Looking at the MR rate within SEC compared to company wide historically it runs two to three MRs per engineer per month higher. And I think a good bit of that has to do with the I mean, we've taken this to be true, or at least asserted it to be true in that it's smaller teams that are working closely together in less busy projects than we see within the Rails platform itself, which does have an impact. That's not to say that we cannot do better, but the comparison The favorable comparison, at least to me, and I will admit this, at times will lessen the urgency on this particular topic. And I have to admit that bias that I have.\n",
    "SPEAKER A: Thanks, Thomas. Thanks, everyone. So I didn't see any comments in the issue. That's totally fine. People found some of it useful, some of the analysis useful. And that's great. So I will close the issue accordingly and just link to these notes. Good stuff. Thomas, you've got item B.\n",
    "SPEAKER E: Okay, I'll write after this then. All right, FedRAMP and the can't or won't fix security issues that we may be having. So we've got them for security issues that are subject to FedRAMP. If you have a feature category that is FIPS compliant or certified, You're probably going to be part of the FedRAMP evaluation and any security issue that has a CVE associated with it, which means dependency or container scanning specifically has to have a remediation plan, even if they're false positives. And so that's led to a separate discussion on. What do we need to do for do we need to do anything related to security findings on the commercial versions of analyzers specifically that was the catalyst for this particular conversation, because on container scanning. we get a lot of findings related to Debian-based images that that project has not shipped a fix for or won't ship a fix for. So there is a separate thread that is going on here about what to do and can we do deviation requests in bulk for this class of of findings. The TLDR is below and there's a couple of options that are being brainstormed within this particular thread. I know I've said a lot of words and I didn't say it well, but I wanted to bring it here in case there was any questions or commentary.\n",
    "SPEAKER B: Nothing directly related to what you've just talked about, but sort of related. For FedRAMP, you're looking at any FIPS-related security issues that have been raised. How far are you going in terms of auditing to find anything that hasn't already been identified?\n",
    "SPEAKER E: There is, I'll link in another issue, a separate issue that has instructions from AppSec on what they would like us to do as far as setting up container scanning. And they have set up a project with a single configuration. that they're asking us to use. There is some debate as to how that project has been configured because it uses a combination of three container scanning tools rather than one. And so they've asked us to use that as a baseline for the FIPS images specifically, since they're UBI or the UBI specific images. They're equivalent in my mind, even though they're different meanings.\n",
    "SPEAKER B: So TLDR, talk to APSEC, got it.\n",
    "SPEAKER E: Nikhil, Nikhil George is our stable counterpart of folks don't know, at least in sec. And so he's been quite responsive and keen and he is also helping chase down answers when when he doesn't have them. So that's a big guy. He's been he's been a big help thus far.\n",
    "SPEAKER I: Yeah.\n",
    "SPEAKER A: So in thanks for bringing this up Thomas so in the hallway so from the development staff mean meeting. I copied and pasted the notes. in there, but net is the TLDR is can folks, the request to me and my peers was can folks check with their teams to see if the approvals are affecting them. So this is the new approval rules on segregation of duties. So I asked this group, not that everybody's here, but in the group and they shouldn't be, because all meetings are optional, but has this had an impact, these new approvals?\n",
    "SPEAKER B: Anecdotally, I've seen a few cases where team members have realized that they need to get an additional approval, but I'm not aware that it's actually slowing things down.\n",
    "SPEAKER C: OK.\n",
    "SPEAKER A: No news is good news on this problem, unless it's happening and we're not noticing it, where it is slowing things down. But just keep an eye on it in case it does. Everyone, please.\n",
    "SPEAKER C: It's good stuff.\n",
    "SPEAKER A: With recent changes, we've done a couple of different changes with secure and govern broken out from secure and a data ops team and this and that is, I just compared the name of my team with my peers. My peers have one word team names, ops, dev, create, etc. Mine is growth and data science. which is pretty wordy and also makes it like when I go into dashboards, I have to pull data from multiple places across my teams. So I was thinking about a one word name. I've started to get feedback on it. Naming things is really important at GitLab to name the right kinds of things and give them good names. So I'm going to run it by David DeSanto tomorrow. He's a great person to bounce such things off of. I landed on enrichment because what we do makes other things better we enrich them. Yeah, it's kind of a very broad term, but it does cover what we do. Not sure we're going to change the name, which I'm not sure it's going to affect anyone but me. That's actually my intent is it only affects my stuff, not everyone else's, but at least everyone else's in a small way or others in a small way, but we'll see. Any thoughts on this? Good idea, bad idea? I'm not wed to this. I'm looking for feedback.\n",
    "SPEAKER B: Yeah, obviously the other examples relate to either sections or stages, whereas enrichment doesn't. So you'd be introducing something new here. This affects me as well. I have a subset of enrichment, so it would be kind of enrichment light. I'm not sure. I think you and I have spoken about this. I'm not sure we would get approval to introduce a new name or department level. We'd certainly have to talk to PeopleOps about introducing that in Workday.\n",
    "SPEAKER I: OK.\n",
    "SPEAKER A: So, a couple of things you know these kinds of things I would sometimes put in slack and I'm trying to avoid number of distinct slack messages so putting it in here, make a lot read only when possible so that see that which is not really sorry I would like to add announcements of work anniversaries and new hires to the meeting template. PM does this I attended the PM staff meeting I was a guest speaker there this week. and the camaraderie. We have good camaraderie. The camaraderie there was pretty good. Fern, who's shadowing me today, I think he sat in on the PM meeting as well. It was a pretty good feel of just people really knowing each other well and getting along well. So those are just two things I took away from it, is anniversaries and new hires. I'll verbalize Tiago's comment. Tiago's not here? Yeah, Tiago's not here. Great idea for new hires. Don't care much about work anniversaries. We already have a bot for that. What I'd say is I always seem to to miss the bot announcements. uh, as they cover the whole company versus about just announcing for our team. If no interest in that part, I'm happy to exclude. So Neil, you like the idea of adding. Yeah, I have the same problem.\n",
    "SPEAKER F: I mean, just last week, I think it was Phil celebrated his third year and I congratulated him, but then I missed another team member in sec, you know, cause there's like 20 people on that list. Plus it's team member updates. That's not a channel I look at a lot, like weekly. I just happen to see that the day of, so. I do like being able to celebrate together in this group.\n",
    "SPEAKER A: Maybe also thanks or praise section, like thanks for doing this and great job on that. To remind ourselves to do that as engineers we tend to focus on the problems and challenges and not the celebrating the wins.\n",
    "SPEAKER B: Are you suggesting that we add new content into this document for that or that we just link to the Slack announcements that we've already made?\n",
    "SPEAKER A: I think it's nice to verbalize them. So maybe link to the Slack announcements, but also verbalize it. I know it sounds like a bunch of busy work. I don't want to do things twice. Maybe we add the sections and people use them as they see fit. whatever that happens to be, but please don't over, don't create busy work for yourself either. So judgment call by each person. Thomas, it looks like you had a Thomas and Mon, you had some thoughts on this too?\n",
    "SPEAKER E: I like it. We don't celebrate enough. We don't do enough for team cohesion, team celebration across the board. And just as a corollary thing that I haven't communicated well, I was hoping to add this kind of thing to our monthly section-wide retrospectives, new hires, discretionary bonuses, work anniversaries, big feature releases. I mean, anything that we want to announce and celebrate, we ought to make sure that it's I don't want to say shout to the rooftops, but we're shot to the heavens, but they're big deals and we don't make, and we undersell in my opinion.\n",
    "SPEAKER J: Oh, sorry. And hey, Fernando here. So I'm shadowing Wayne now just to introduce myself from the technical marketing team. And I'll send the document right now, which is something that we do for our kind of get together team meetings. And it kind of shows, you can look through it. I shared it to everyone on the Zoom chat. But you can see that we provide updates, the new team members and small little introductions. And you can see sections that we have on gratitude and actual spotlights that we show like who we're actually praising what they've done that's good and how we can highlight that because that will motivate employees kind of really increase that morale because what we're seeing is these employees are actually getting recognized for good work that they've done. And they're getting shout outs because a lot of times, at least in our team, the case is we don't really, although we work with each other, we sometimes are kind of siloed busy working on different things. So it's good to know what everyone's working on and what everyone's doing. So somewhat related to what you were just speaking on, but just thought I'd share that.\n",
    "SPEAKER C: Thanks Fernando.\n",
    "SPEAKER A: Indeed, so I'm not gonna read all this from Daniel Croft, but summarizing he is looking for feedback on the development vision and mission and direction. We're brainstorming on in the development department. On mission and vision, in particular, the approach is when everybody open up a little spreadsheet and follow the instructions anybody interested, so if you're interested in doing so to take about 10 to 15 minutes, please do it in the next week. Good stuff there. Something we covered also at the development offsite that Daniel took as an action item to follow up on.\n",
    "SPEAKER E: Thomas, you've got E. Yep. All right. Because I cannot remember. And so I'm hoping to crowdsource a little bit of this configuration archaeology, so to speak. Is there a reason that we don't use reviewer roulette? If folks can remember, the reason I'm asking is contained within that thread, but that is a tool that actually is being used to track if we have enough maintainers on any given project. And since we don't use it, we're showing up. And so that's why I was, that's why I'm asking.\n",
    "SPEAKER K: Yeah. When you say review a rule, are you talking about on the individual analyzers?\n",
    "SPEAKER E: Yeah.\n",
    "SPEAKER K: Speaking only for Dash, we haven't had a need for it because we have, six engineers, it's just going to rule out the same six people.\n",
    "SPEAKER E: Yeah, rule a six-sided diet. That's what I kind of think it is. But it's from a larger, like, if the company, like, where do we need more maintainers is the question that the organization is asking.\n",
    "SPEAKER B: I mean, I'd suggest they're looking in the wrong place. If they're looking in roulette to see to find out the number of maintainers. That's the wrong place. The engineering projects page should list all the maintainers if you set up your team YAML entries correctly. I would have thought that was more the single source of truth.\n",
    "SPEAKER E: Apparently not. So yeah.\n",
    "SPEAKER K: Yeah, I'm looking at the chart. I mean, I think on some of these projects, we just haven't filled it out. I'll give you, like, we have the API. We have one engineer that works on it. So we haven't gone and added a maintainer there because they know who they are. So if we are trying to maintain that as a single source truth, we need to just go through and scrub it.\n",
    "SPEAKER A: Sorry, Seth. I'm reminded of the Spider-Man meme with the two Spider-Men pointing at each other. Who's the reviewer? Who's the author? It's the same person. It's been a long day, so I'm a little punchy. But yes, that makes sense.\n",
    "SPEAKER B: So Seth, are you saying you haven't added it to individual team members YAML files in the handbook yet?\n",
    "SPEAKER K: Right. I believe for that one, there's just no entry for it. I mean, we could.\n",
    "SPEAKER B: I think that should do it. Yeah, well, it should. They shouldn't be using just roulette. They should be using that as a source of truth. And I think if you've listed maintainers, that should cover it. A follow up question would be, does that cover the senior plus engineers must be a maintainer requirement or not?\n",
    "SPEAKER A: Thomas, you buried the lead. I took the read-only off your comment there, so you can enable it.\n",
    "SPEAKER E: Well, we're going to end with the best news of the day. That's all. But the maintainer requirement, yes, it does. I mean, because it's required for senior plus, going back to that, is just maintaining one or more, I think, is the requirement, if I remember correctly. I was talking about the Olivier News. Yeah, I know. I was just making sure we were finished with the topic above. And we're at time. So I will move on and take that as a prompt. Yeah, Olivier has popped back on Slack to announce that the newest edition of their family is here and happened over the weekend. So big congrats to his family for that. And we'll be hoping to celebrate him later when he returns to work.\n",
    "SPEAKER C: Google. Thanks, everybody. Have a great day.\n",
    "\"\"\"\n",
    "\n",
    "assemblyai_transcription_lower = assemblyai_transcription.lower()\n",
    "whisper_transcription_lower = whisper_transcription.lower()\n",
    "\n",
    "transforms = tr.Compose(\n",
    "    [\n",
    "        tr.RemovePunctuation(),\n",
    "        tr.RemoveMultipleSpaces(),\n",
    "        tr.Strip(),\n",
    "        tr.ReduceToSingleSentence()\n",
    "    ]\n",
    ")\n",
    "\n",
    "normalized_assemblyai_transcription = transforms(assemblyai_transcription_lower)\n",
    "normalized_whisper_transcription = transforms(whisper_transcription_lower)\n",
    "\n",
    "wer_score = wer(normalized_assemblyai_transcription, normalized_whisper_transcription)\n",
    "accuracy = (1 - wer_score) * 100\n",
    "\n",
    "print(f\"Word Error Rate (WER): {wer_score:.4f}\")\n",
    "print(f\"Accuracy of Whisper compared to AssemblyAI: {accuracy:.2f}%\")"
   ]
  }
 ],
 "metadata": {
  "kernelspec": {
   "display_name": "Python 3",
   "language": "python",
   "name": "python3"
  },
  "language_info": {
   "codemirror_mode": {
    "name": "ipython",
    "version": 3
   },
   "file_extension": ".py",
   "mimetype": "text/x-python",
   "name": "python",
   "nbconvert_exporter": "python",
   "pygments_lexer": "ipython3",
   "version": "3.10.11"
  }
 },
 "nbformat": 4,
 "nbformat_minor": 5
}
